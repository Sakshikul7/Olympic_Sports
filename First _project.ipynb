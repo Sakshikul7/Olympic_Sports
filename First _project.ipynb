{
 "cells": [
  {
   "cell_type": "code",
   "execution_count": 1,
   "id": "5adbb7b2-6473-4487-a94f-ab2618ef9786",
   "metadata": {},
   "outputs": [],
   "source": [
    "import pandas as pd\n",
    "import numpy as np\n",
    "import matplotlib.pyplot as plt\n",
    "import seaborn as sns\n",
    "from sklearn.model_selection import train_test_split"
   ]
  },
  {
   "cell_type": "code",
   "execution_count": 2,
   "id": "410a387e-78c1-4fb3-99c2-10f81facc632",
   "metadata": {},
   "outputs": [],
   "source": [
    "# Import the data set\n",
    "df = pd.read_excel(\"C:/Users/asus/Downloads/Olympic Sports dataset CW3 (2).xlsx\")"
   ]
  },
  {
   "cell_type": "code",
   "execution_count": 3,
   "id": "4f84a309-029a-41a2-80eb-265fd0135ae6",
   "metadata": {},
   "outputs": [
    {
     "data": {
      "text/html": [
       "<div>\n",
       "<style scoped>\n",
       "    .dataframe tbody tr th:only-of-type {\n",
       "        vertical-align: middle;\n",
       "    }\n",
       "\n",
       "    .dataframe tbody tr th {\n",
       "        vertical-align: top;\n",
       "    }\n",
       "\n",
       "    .dataframe thead th {\n",
       "        text-align: right;\n",
       "    }\n",
       "</style>\n",
       "<table border=\"1\" class=\"dataframe\">\n",
       "  <thead>\n",
       "    <tr style=\"text-align: right;\">\n",
       "      <th></th>\n",
       "      <th>Subsidiary/Country</th>\n",
       "      <th>Year</th>\n",
       "      <th>Month</th>\n",
       "      <th>Sport product category</th>\n",
       "      <th>Sales value</th>\n",
       "      <th>Sales volume</th>\n",
       "      <th>Unnamed: 6</th>\n",
       "      <th>Unnamed: 7</th>\n",
       "    </tr>\n",
       "  </thead>\n",
       "  <tbody>\n",
       "    <tr>\n",
       "      <th>0</th>\n",
       "      <td>France</td>\n",
       "      <td>2020</td>\n",
       "      <td>1</td>\n",
       "      <td>Outerwear</td>\n",
       "      <td>38760</td>\n",
       "      <td>760</td>\n",
       "      <td>NaN</td>\n",
       "      <td>NaN</td>\n",
       "    </tr>\n",
       "    <tr>\n",
       "      <th>1</th>\n",
       "      <td>France</td>\n",
       "      <td>2020</td>\n",
       "      <td>1</td>\n",
       "      <td>t-shirts</td>\n",
       "      <td>6479</td>\n",
       "      <td>209</td>\n",
       "      <td>NaN</td>\n",
       "      <td>NaN</td>\n",
       "    </tr>\n",
       "    <tr>\n",
       "      <th>2</th>\n",
       "      <td>France</td>\n",
       "      <td>2020</td>\n",
       "      <td>1</td>\n",
       "      <td>shirts</td>\n",
       "      <td>14070</td>\n",
       "      <td>402</td>\n",
       "      <td>NaN</td>\n",
       "      <td>NaN</td>\n",
       "    </tr>\n",
       "    <tr>\n",
       "      <th>3</th>\n",
       "      <td>France</td>\n",
       "      <td>2020</td>\n",
       "      <td>1</td>\n",
       "      <td>shorts</td>\n",
       "      <td>14685</td>\n",
       "      <td>445</td>\n",
       "      <td>NaN</td>\n",
       "      <td>NaN</td>\n",
       "    </tr>\n",
       "    <tr>\n",
       "      <th>4</th>\n",
       "      <td>France</td>\n",
       "      <td>2020</td>\n",
       "      <td>1</td>\n",
       "      <td>trousers</td>\n",
       "      <td>22468</td>\n",
       "      <td>548</td>\n",
       "      <td>NaN</td>\n",
       "      <td>NaN</td>\n",
       "    </tr>\n",
       "  </tbody>\n",
       "</table>\n",
       "</div>"
      ],
      "text/plain": [
       "  Subsidiary/Country  Year  Month Sport product category  Sales value  \\\n",
       "0             France  2020      1              Outerwear        38760   \n",
       "1             France  2020      1               t-shirts         6479   \n",
       "2             France  2020      1                 shirts        14070   \n",
       "3             France  2020      1                 shorts        14685   \n",
       "4             France  2020      1               trousers        22468   \n",
       "\n",
       "   Sales volume  Unnamed: 6  Unnamed: 7  \n",
       "0           760         NaN         NaN  \n",
       "1           209         NaN         NaN  \n",
       "2           402         NaN         NaN  \n",
       "3           445         NaN         NaN  \n",
       "4           548         NaN         NaN  "
      ]
     },
     "execution_count": 3,
     "metadata": {},
     "output_type": "execute_result"
    }
   ],
   "source": [
    "df.head(5)"
   ]
  },
  {
   "cell_type": "code",
   "execution_count": 4,
   "id": "07841452-1eb0-4d3a-a00c-b6d093fc07df",
   "metadata": {},
   "outputs": [
    {
     "data": {
      "text/plain": [
       "(648, 8)"
      ]
     },
     "execution_count": 4,
     "metadata": {},
     "output_type": "execute_result"
    }
   ],
   "source": [
    "df.shape"
   ]
  },
  {
   "cell_type": "code",
   "execution_count": 5,
   "id": "ff7a0ff6-514e-47b2-9f93-029ab69fbf4b",
   "metadata": {},
   "outputs": [
    {
     "name": "stdout",
     "output_type": "stream",
     "text": [
      "<class 'pandas.core.frame.DataFrame'>\n",
      "RangeIndex: 648 entries, 0 to 647\n",
      "Data columns (total 8 columns):\n",
      " #   Column                  Non-Null Count  Dtype  \n",
      "---  ------                  --------------  -----  \n",
      " 0   Subsidiary/Country      648 non-null    object \n",
      " 1   Year                    648 non-null    int64  \n",
      " 2   Month                   648 non-null    int64  \n",
      " 3   Sport product category  648 non-null    object \n",
      " 4   Sales value             648 non-null    int64  \n",
      " 5   Sales volume            648 non-null    int64  \n",
      " 6   Unnamed: 6              0 non-null      float64\n",
      " 7   Unnamed: 7              6 non-null      float64\n",
      "dtypes: float64(2), int64(4), object(2)\n",
      "memory usage: 40.6+ KB\n"
     ]
    }
   ],
   "source": [
    "df.info()"
   ]
  },
  {
   "cell_type": "code",
   "execution_count": 6,
   "id": "8dbee637-f48a-49cd-b134-78df82ad0cfe",
   "metadata": {},
   "outputs": [],
   "source": [
    "# Dropping the columns\n",
    "df.drop(['Unnamed: 6','Unnamed: 7'],inplace= True,axis=1 )"
   ]
  },
  {
   "cell_type": "code",
   "execution_count": 7,
   "id": "a6b29120-e309-4136-9662-850e3395ebe4",
   "metadata": {},
   "outputs": [
    {
     "data": {
      "text/html": [
       "<div>\n",
       "<style scoped>\n",
       "    .dataframe tbody tr th:only-of-type {\n",
       "        vertical-align: middle;\n",
       "    }\n",
       "\n",
       "    .dataframe tbody tr th {\n",
       "        vertical-align: top;\n",
       "    }\n",
       "\n",
       "    .dataframe thead th {\n",
       "        text-align: right;\n",
       "    }\n",
       "</style>\n",
       "<table border=\"1\" class=\"dataframe\">\n",
       "  <thead>\n",
       "    <tr style=\"text-align: right;\">\n",
       "      <th></th>\n",
       "      <th>Subsidiary/Country</th>\n",
       "      <th>Year</th>\n",
       "      <th>Month</th>\n",
       "      <th>Sport product category</th>\n",
       "      <th>Sales value</th>\n",
       "      <th>Sales volume</th>\n",
       "    </tr>\n",
       "  </thead>\n",
       "  <tbody>\n",
       "    <tr>\n",
       "      <th>0</th>\n",
       "      <td>France</td>\n",
       "      <td>2020</td>\n",
       "      <td>1</td>\n",
       "      <td>Outerwear</td>\n",
       "      <td>38760</td>\n",
       "      <td>760</td>\n",
       "    </tr>\n",
       "    <tr>\n",
       "      <th>1</th>\n",
       "      <td>France</td>\n",
       "      <td>2020</td>\n",
       "      <td>1</td>\n",
       "      <td>t-shirts</td>\n",
       "      <td>6479</td>\n",
       "      <td>209</td>\n",
       "    </tr>\n",
       "    <tr>\n",
       "      <th>2</th>\n",
       "      <td>France</td>\n",
       "      <td>2020</td>\n",
       "      <td>1</td>\n",
       "      <td>shirts</td>\n",
       "      <td>14070</td>\n",
       "      <td>402</td>\n",
       "    </tr>\n",
       "    <tr>\n",
       "      <th>3</th>\n",
       "      <td>France</td>\n",
       "      <td>2020</td>\n",
       "      <td>1</td>\n",
       "      <td>shorts</td>\n",
       "      <td>14685</td>\n",
       "      <td>445</td>\n",
       "    </tr>\n",
       "    <tr>\n",
       "      <th>4</th>\n",
       "      <td>France</td>\n",
       "      <td>2020</td>\n",
       "      <td>1</td>\n",
       "      <td>trousers</td>\n",
       "      <td>22468</td>\n",
       "      <td>548</td>\n",
       "    </tr>\n",
       "  </tbody>\n",
       "</table>\n",
       "</div>"
      ],
      "text/plain": [
       "  Subsidiary/Country  Year  Month Sport product category  Sales value  \\\n",
       "0             France  2020      1              Outerwear        38760   \n",
       "1             France  2020      1               t-shirts         6479   \n",
       "2             France  2020      1                 shirts        14070   \n",
       "3             France  2020      1                 shorts        14685   \n",
       "4             France  2020      1               trousers        22468   \n",
       "\n",
       "   Sales volume  \n",
       "0           760  \n",
       "1           209  \n",
       "2           402  \n",
       "3           445  \n",
       "4           548  "
      ]
     },
     "execution_count": 7,
     "metadata": {},
     "output_type": "execute_result"
    }
   ],
   "source": [
    "df.head()"
   ]
  },
  {
   "cell_type": "code",
   "execution_count": 8,
   "id": "78549272-7956-4528-bd9b-a2a7902d3eab",
   "metadata": {},
   "outputs": [
    {
     "data": {
      "text/plain": [
       "0"
      ]
     },
     "execution_count": 8,
     "metadata": {},
     "output_type": "execute_result"
    }
   ],
   "source": [
    "# cheaking for null values\n",
    "df.isna().sum().sum()"
   ]
  },
  {
   "cell_type": "code",
   "execution_count": 9,
   "id": "fa666de6-2cbe-41a6-a8b2-21981c5ae9b5",
   "metadata": {},
   "outputs": [
    {
     "data": {
      "text/plain": [
       "0"
      ]
     },
     "execution_count": 9,
     "metadata": {},
     "output_type": "execute_result"
    }
   ],
   "source": [
    "# Cheaking for duplicates\n",
    "df.duplicated().sum()"
   ]
  },
  {
   "cell_type": "code",
   "execution_count": 10,
   "id": "b3955a7c-548c-49ab-83fc-595ae073aa52",
   "metadata": {},
   "outputs": [
    {
     "data": {
      "text/plain": [
       "Sport product category\n",
       "Outerwear         108\n",
       "t-shirts          108\n",
       "shirts            108\n",
       "shorts            108\n",
       "footwear          105\n",
       "trousers          104\n",
       "trousers$£%&        4\n",
       "foottw$!&ear        3\n",
       "Name: count, dtype: int64"
      ]
     },
     "execution_count": 10,
     "metadata": {},
     "output_type": "execute_result"
    }
   ],
   "source": [
    "# Value_counts\n",
    "df['Sport product category'].value_counts()"
   ]
  },
  {
   "cell_type": "code",
   "execution_count": 11,
   "id": "415f30be-68da-4dc0-9960-43f296294ce9",
   "metadata": {},
   "outputs": [
    {
     "data": {
      "text/plain": [
       "Subsidiary/Country\n",
       "UK         216\n",
       "Germany    216\n",
       "France     211\n",
       "Fran         5\n",
       "Name: count, dtype: int64"
      ]
     },
     "execution_count": 11,
     "metadata": {},
     "output_type": "execute_result"
    }
   ],
   "source": [
    "df['Subsidiary/Country'].value_counts()"
   ]
  },
  {
   "cell_type": "code",
   "execution_count": 12,
   "id": "507207fd-9d3b-4012-95f0-3384ba64e031",
   "metadata": {},
   "outputs": [
    {
     "data": {
      "text/plain": [
       "Year\n",
       "2020    216\n",
       "2021    216\n",
       "2022    210\n",
       "2042      6\n",
       "Name: count, dtype: int64"
      ]
     },
     "execution_count": 12,
     "metadata": {},
     "output_type": "execute_result"
    }
   ],
   "source": [
    "df['Year'].value_counts()"
   ]
  },
  {
   "cell_type": "code",
   "execution_count": 13,
   "id": "310885e3-bd52-49de-909e-535f4346059d",
   "metadata": {},
   "outputs": [
    {
     "data": {
      "text/html": [
       "<div>\n",
       "<style scoped>\n",
       "    .dataframe tbody tr th:only-of-type {\n",
       "        vertical-align: middle;\n",
       "    }\n",
       "\n",
       "    .dataframe tbody tr th {\n",
       "        vertical-align: top;\n",
       "    }\n",
       "\n",
       "    .dataframe thead th {\n",
       "        text-align: right;\n",
       "    }\n",
       "</style>\n",
       "<table border=\"1\" class=\"dataframe\">\n",
       "  <thead>\n",
       "    <tr style=\"text-align: right;\">\n",
       "      <th></th>\n",
       "      <th>Subsidiary/Country</th>\n",
       "      <th>Year</th>\n",
       "      <th>Month</th>\n",
       "      <th>Sport product category</th>\n",
       "      <th>Sales value</th>\n",
       "      <th>Sales volume</th>\n",
       "    </tr>\n",
       "  </thead>\n",
       "  <tbody>\n",
       "    <tr>\n",
       "      <th>210</th>\n",
       "      <td>France</td>\n",
       "      <td>2042</td>\n",
       "      <td>12</td>\n",
       "      <td>Outerwear</td>\n",
       "      <td>47517</td>\n",
       "      <td>1011</td>\n",
       "    </tr>\n",
       "    <tr>\n",
       "      <th>211</th>\n",
       "      <td>France</td>\n",
       "      <td>2042</td>\n",
       "      <td>12</td>\n",
       "      <td>t-shirts</td>\n",
       "      <td>20430</td>\n",
       "      <td>681</td>\n",
       "    </tr>\n",
       "    <tr>\n",
       "      <th>212</th>\n",
       "      <td>France</td>\n",
       "      <td>2042</td>\n",
       "      <td>12</td>\n",
       "      <td>shirts</td>\n",
       "      <td>22610</td>\n",
       "      <td>665</td>\n",
       "    </tr>\n",
       "    <tr>\n",
       "      <th>213</th>\n",
       "      <td>France</td>\n",
       "      <td>2042</td>\n",
       "      <td>12</td>\n",
       "      <td>shorts</td>\n",
       "      <td>3680</td>\n",
       "      <td>115</td>\n",
       "    </tr>\n",
       "    <tr>\n",
       "      <th>214</th>\n",
       "      <td>France</td>\n",
       "      <td>2042</td>\n",
       "      <td>12</td>\n",
       "      <td>trousers</td>\n",
       "      <td>20492</td>\n",
       "      <td>436</td>\n",
       "    </tr>\n",
       "    <tr>\n",
       "      <th>215</th>\n",
       "      <td>France</td>\n",
       "      <td>2042</td>\n",
       "      <td>12</td>\n",
       "      <td>footwear</td>\n",
       "      <td>37950</td>\n",
       "      <td>506</td>\n",
       "    </tr>\n",
       "  </tbody>\n",
       "</table>\n",
       "</div>"
      ],
      "text/plain": [
       "    Subsidiary/Country  Year  Month Sport product category  Sales value  \\\n",
       "210             France  2042     12              Outerwear        47517   \n",
       "211             France  2042     12               t-shirts        20430   \n",
       "212             France  2042     12                 shirts        22610   \n",
       "213             France  2042     12                 shorts         3680   \n",
       "214             France  2042     12               trousers        20492   \n",
       "215             France  2042     12             footwear          37950   \n",
       "\n",
       "     Sales volume  \n",
       "210          1011  \n",
       "211           681  \n",
       "212           665  \n",
       "213           115  \n",
       "214           436  \n",
       "215           506  "
      ]
     },
     "execution_count": 13,
     "metadata": {},
     "output_type": "execute_result"
    }
   ],
   "source": [
    "filtered_df = df[df['Year'] == 2042]\n",
    "filtered_df"
   ]
  },
  {
   "cell_type": "code",
   "execution_count": 14,
   "id": "69de962b-3e82-46bb-a773-38828e8c1d66",
   "metadata": {},
   "outputs": [
    {
     "name": "stdout",
     "output_type": "stream",
     "text": [
      "IQR Outliers:\n",
      "    Subsidiary/Country  Year  Month Sport product category  Sales value  \\\n",
      "449            Germany  2020      3             footwear         149076   \n",
      "450            Germany  2020      4              Outerwear       163242   \n",
      "479            Germany  2020      8             footwear         143370   \n",
      "503            Germany  2020     12             footwear         161680   \n",
      "569            Germany  2021     11             footwear         159120   \n",
      "599            Germany  2022      4             footwear         173460   \n",
      "612            Germany  2022      7              Outerwear       181370   \n",
      "617            Germany  2022      7             footwear         212584   \n",
      "618            Germany  2022      8              Outerwear       212850   \n",
      "623            Germany  2022      8             footwear         191955   \n",
      "624            Germany  2022      9              Outerwear       143725   \n",
      "629            Germany  2022      9             footwear         168122   \n",
      "635            Germany  2022     10             footwear         182080   \n",
      "636            Germany  2022     11              Outerwear       174546   \n",
      "641            Germany  2022     11             footwear         165840   \n",
      "647            Germany  2022     12             footwear         171700   \n",
      "\n",
      "     Sales volume  Sales value zscore  IQR Outlier  Z-Score Outlier  \n",
      "449          1818            2.657949         True            False  \n",
      "450          3023            3.024710         True             True  \n",
      "479          1770            2.510219         True            False  \n",
      "503          2021            2.984269         True            False  \n",
      "569          1872            2.917990         True            False  \n",
      "599          2065            3.289256         True             True  \n",
      "612          3586            3.494048         True             True  \n",
      "617          2534            4.302187         True             True  \n",
      "618          3857            4.309073         True             True  \n",
      "623          2023            3.768097         True             True  \n",
      "624          2525            2.519410         True            False  \n",
      "629          1899            3.151054         True             True  \n",
      "635          2026            3.512430         True             True  \n",
      "636          3154            3.317373         True             True  \n",
      "641          1823            3.091973         True             True  \n",
      "647          1850            3.243690         True             True  \n",
      "Z-Score Outliers:\n",
      "    Subsidiary/Country  Year  Month Sport product category  Sales value  \\\n",
      "450            Germany  2020      4              Outerwear       163242   \n",
      "599            Germany  2022      4             footwear         173460   \n",
      "612            Germany  2022      7              Outerwear       181370   \n",
      "617            Germany  2022      7             footwear         212584   \n",
      "618            Germany  2022      8              Outerwear       212850   \n",
      "623            Germany  2022      8             footwear         191955   \n",
      "629            Germany  2022      9             footwear         168122   \n",
      "635            Germany  2022     10             footwear         182080   \n",
      "636            Germany  2022     11              Outerwear       174546   \n",
      "641            Germany  2022     11             footwear         165840   \n",
      "647            Germany  2022     12             footwear         171700   \n",
      "\n",
      "     Sales volume  Sales value zscore  IQR Outlier  Z-Score Outlier  \n",
      "450          3023            3.024710         True             True  \n",
      "599          2065            3.289256         True             True  \n",
      "612          3586            3.494048         True             True  \n",
      "617          2534            4.302187         True             True  \n",
      "618          3857            4.309073         True             True  \n",
      "623          2023            3.768097         True             True  \n",
      "629          1899            3.151054         True             True  \n",
      "635          2026            3.512430         True             True  \n",
      "636          3154            3.317373         True             True  \n",
      "641          1823            3.091973         True             True  \n",
      "647          1850            3.243690         True             True  \n"
     ]
    }
   ],
   "source": [
    "import pandas as pd\n",
    "import numpy as np\n",
    "from scipy.stats import zscore\n",
    "\n",
    "df['Sales value zscore'] = zscore(df['Sales value'])\n",
    "\n",
    "Q1 = df['Sales value'].quantile(0.25)\n",
    "Q3 = df['Sales value'].quantile(0.75)\n",
    "IQR = Q3 - Q1\n",
    "\n",
    "lower_bound = Q1 - 1.5 * IQR\n",
    "upper_bound = Q3 + 1.5 * IQR\n",
    "df['IQR Outlier'] = (df['Sales value'] < lower_bound) | (df['Sales value'] > upper_bound)\n",
    "\n",
    "zscore_threshold = 3\n",
    "df['Z-Score Outlier'] = (df['Sales value zscore'] > zscore_threshold) | (df['Sales value zscore'] < -zscore_threshold)\n",
    "\n",
    "# Optional: Filter the outliers for further analysis\n",
    "iqr_outliers = df[df['IQR Outlier']]\n",
    "zscore_outliers = df[df['Z-Score Outlier']]\n",
    "\n",
    "print(\"IQR Outliers:\")\n",
    "print(iqr_outliers)\n",
    "\n",
    "print(\"Z-Score Outliers:\")\n",
    "print(zscore_outliers)\n"
   ]
  },
  {
   "cell_type": "code",
   "execution_count": 15,
   "id": "083daeec-52a3-4bde-bf40-b34e3d93eb3a",
   "metadata": {},
   "outputs": [
    {
     "name": "stdout",
     "output_type": "stream",
     "text": [
      "DataFrame without z-score outliers:\n"
     ]
    },
    {
     "data": {
      "text/html": [
       "<div>\n",
       "<style scoped>\n",
       "    .dataframe tbody tr th:only-of-type {\n",
       "        vertical-align: middle;\n",
       "    }\n",
       "\n",
       "    .dataframe tbody tr th {\n",
       "        vertical-align: top;\n",
       "    }\n",
       "\n",
       "    .dataframe thead th {\n",
       "        text-align: right;\n",
       "    }\n",
       "</style>\n",
       "<table border=\"1\" class=\"dataframe\">\n",
       "  <thead>\n",
       "    <tr style=\"text-align: right;\">\n",
       "      <th></th>\n",
       "      <th>Subsidiary/Country</th>\n",
       "      <th>Year</th>\n",
       "      <th>Month</th>\n",
       "      <th>Sport product category</th>\n",
       "      <th>Sales value</th>\n",
       "      <th>Sales volume</th>\n",
       "      <th>Sales value zscore</th>\n",
       "      <th>IQR Outlier</th>\n",
       "      <th>Z-Score Outlier</th>\n",
       "    </tr>\n",
       "  </thead>\n",
       "  <tbody>\n",
       "    <tr>\n",
       "      <th>0</th>\n",
       "      <td>France</td>\n",
       "      <td>2020</td>\n",
       "      <td>1</td>\n",
       "      <td>Outerwear</td>\n",
       "      <td>38760</td>\n",
       "      <td>760</td>\n",
       "      <td>-0.198160</td>\n",
       "      <td>False</td>\n",
       "      <td>False</td>\n",
       "    </tr>\n",
       "    <tr>\n",
       "      <th>1</th>\n",
       "      <td>France</td>\n",
       "      <td>2020</td>\n",
       "      <td>1</td>\n",
       "      <td>t-shirts</td>\n",
       "      <td>6479</td>\n",
       "      <td>209</td>\n",
       "      <td>-1.033923</td>\n",
       "      <td>False</td>\n",
       "      <td>False</td>\n",
       "    </tr>\n",
       "    <tr>\n",
       "      <th>2</th>\n",
       "      <td>France</td>\n",
       "      <td>2020</td>\n",
       "      <td>1</td>\n",
       "      <td>shirts</td>\n",
       "      <td>14070</td>\n",
       "      <td>402</td>\n",
       "      <td>-0.837391</td>\n",
       "      <td>False</td>\n",
       "      <td>False</td>\n",
       "    </tr>\n",
       "    <tr>\n",
       "      <th>3</th>\n",
       "      <td>France</td>\n",
       "      <td>2020</td>\n",
       "      <td>1</td>\n",
       "      <td>shorts</td>\n",
       "      <td>14685</td>\n",
       "      <td>445</td>\n",
       "      <td>-0.821468</td>\n",
       "      <td>False</td>\n",
       "      <td>False</td>\n",
       "    </tr>\n",
       "    <tr>\n",
       "      <th>4</th>\n",
       "      <td>France</td>\n",
       "      <td>2020</td>\n",
       "      <td>1</td>\n",
       "      <td>trousers</td>\n",
       "      <td>22468</td>\n",
       "      <td>548</td>\n",
       "      <td>-0.619964</td>\n",
       "      <td>False</td>\n",
       "      <td>False</td>\n",
       "    </tr>\n",
       "    <tr>\n",
       "      <th>...</th>\n",
       "      <td>...</td>\n",
       "      <td>...</td>\n",
       "      <td>...</td>\n",
       "      <td>...</td>\n",
       "      <td>...</td>\n",
       "      <td>...</td>\n",
       "      <td>...</td>\n",
       "      <td>...</td>\n",
       "      <td>...</td>\n",
       "    </tr>\n",
       "    <tr>\n",
       "      <th>642</th>\n",
       "      <td>Germany</td>\n",
       "      <td>2022</td>\n",
       "      <td>12</td>\n",
       "      <td>Outerwear</td>\n",
       "      <td>136046</td>\n",
       "      <td>2149</td>\n",
       "      <td>2.320599</td>\n",
       "      <td>False</td>\n",
       "      <td>False</td>\n",
       "    </tr>\n",
       "    <tr>\n",
       "      <th>643</th>\n",
       "      <td>Germany</td>\n",
       "      <td>2022</td>\n",
       "      <td>12</td>\n",
       "      <td>t-shirts</td>\n",
       "      <td>70490</td>\n",
       "      <td>1683</td>\n",
       "      <td>0.623337</td>\n",
       "      <td>False</td>\n",
       "      <td>False</td>\n",
       "    </tr>\n",
       "    <tr>\n",
       "      <th>644</th>\n",
       "      <td>Germany</td>\n",
       "      <td>2022</td>\n",
       "      <td>12</td>\n",
       "      <td>shirts</td>\n",
       "      <td>83240</td>\n",
       "      <td>1860</td>\n",
       "      <td>0.953438</td>\n",
       "      <td>False</td>\n",
       "      <td>False</td>\n",
       "    </tr>\n",
       "    <tr>\n",
       "      <th>645</th>\n",
       "      <td>Germany</td>\n",
       "      <td>2022</td>\n",
       "      <td>12</td>\n",
       "      <td>shorts</td>\n",
       "      <td>49736</td>\n",
       "      <td>826</td>\n",
       "      <td>0.086011</td>\n",
       "      <td>False</td>\n",
       "      <td>False</td>\n",
       "    </tr>\n",
       "    <tr>\n",
       "      <th>646</th>\n",
       "      <td>Germany</td>\n",
       "      <td>2022</td>\n",
       "      <td>12</td>\n",
       "      <td>trousers</td>\n",
       "      <td>44816</td>\n",
       "      <td>517</td>\n",
       "      <td>-0.041369</td>\n",
       "      <td>False</td>\n",
       "      <td>False</td>\n",
       "    </tr>\n",
       "  </tbody>\n",
       "</table>\n",
       "<p>637 rows × 9 columns</p>\n",
       "</div>"
      ],
      "text/plain": [
       "    Subsidiary/Country  Year  Month Sport product category  Sales value  \\\n",
       "0               France  2020      1              Outerwear        38760   \n",
       "1               France  2020      1               t-shirts         6479   \n",
       "2               France  2020      1                 shirts        14070   \n",
       "3               France  2020      1                 shorts        14685   \n",
       "4               France  2020      1               trousers        22468   \n",
       "..                 ...   ...    ...                    ...          ...   \n",
       "642            Germany  2022     12              Outerwear       136046   \n",
       "643            Germany  2022     12               t-shirts        70490   \n",
       "644            Germany  2022     12                 shirts        83240   \n",
       "645            Germany  2022     12                 shorts        49736   \n",
       "646            Germany  2022     12               trousers        44816   \n",
       "\n",
       "     Sales volume  Sales value zscore  IQR Outlier  Z-Score Outlier  \n",
       "0             760           -0.198160        False            False  \n",
       "1             209           -1.033923        False            False  \n",
       "2             402           -0.837391        False            False  \n",
       "3             445           -0.821468        False            False  \n",
       "4             548           -0.619964        False            False  \n",
       "..            ...                 ...          ...              ...  \n",
       "642          2149            2.320599        False            False  \n",
       "643          1683            0.623337        False            False  \n",
       "644          1860            0.953438        False            False  \n",
       "645           826            0.086011        False            False  \n",
       "646           517           -0.041369        False            False  \n",
       "\n",
       "[637 rows x 9 columns]"
      ]
     },
     "execution_count": 15,
     "metadata": {},
     "output_type": "execute_result"
    }
   ],
   "source": [
    "df['Sales value zscore'] = zscore(df['Sales value'])\n",
    "\n",
    "zscore_threshold = 3\n",
    "df_no_outliers_zscore = df[(df['Sales value zscore'] <= zscore_threshold) & (df['Sales value zscore'] >= -zscore_threshold)]\n",
    "\n",
    "print(\"DataFrame without z-score outliers:\")\n",
    "df_no_outliers_zscore\n"
   ]
  },
  {
   "cell_type": "code",
   "execution_count": 16,
   "id": "2534ff33-1b3e-4fae-8b87-0136cdbe129b",
   "metadata": {
    "scrolled": true
   },
   "outputs": [
    {
     "name": "stderr",
     "output_type": "stream",
     "text": [
      "C:\\Users\\asus\\AppData\\Local\\Temp\\ipykernel_2948\\2170219220.py:1: SettingWithCopyWarning: \n",
      "A value is trying to be set on a copy of a slice from a DataFrame\n",
      "\n",
      "See the caveats in the documentation: https://pandas.pydata.org/pandas-docs/stable/user_guide/indexing.html#returning-a-view-versus-a-copy\n",
      "  df_no_outliers_zscore.drop(['Sales value zscore','IQR Outlier','Z-Score Outlier'],inplace=True,axis=1)\n"
     ]
    }
   ],
   "source": [
    "df_no_outliers_zscore.drop(['Sales value zscore','IQR Outlier','Z-Score Outlier'],inplace=True,axis=1)"
   ]
  },
  {
   "cell_type": "code",
   "execution_count": 17,
   "id": "d2687c56-7bd1-43b4-9d40-327f4f9fdd7d",
   "metadata": {},
   "outputs": [
    {
     "name": "stdout",
     "output_type": "stream",
     "text": [
      "Table-A: Data and trends in sales volume and value by month and year\n"
     ]
    },
    {
     "data": {
      "text/html": [
       "<div>\n",
       "<style scoped>\n",
       "    .dataframe tbody tr th:only-of-type {\n",
       "        vertical-align: middle;\n",
       "    }\n",
       "\n",
       "    .dataframe tbody tr th {\n",
       "        vertical-align: top;\n",
       "    }\n",
       "\n",
       "    .dataframe thead th {\n",
       "        text-align: right;\n",
       "    }\n",
       "</style>\n",
       "<table border=\"1\" class=\"dataframe\">\n",
       "  <thead>\n",
       "    <tr style=\"text-align: right;\">\n",
       "      <th></th>\n",
       "      <th>Year</th>\n",
       "      <th>Month</th>\n",
       "      <th>Sales value</th>\n",
       "      <th>Sales volume</th>\n",
       "    </tr>\n",
       "  </thead>\n",
       "  <tbody>\n",
       "    <tr>\n",
       "      <th>0</th>\n",
       "      <td>2020</td>\n",
       "      <td>1</td>\n",
       "      <td>647898</td>\n",
       "      <td>13083</td>\n",
       "    </tr>\n",
       "    <tr>\n",
       "      <th>1</th>\n",
       "      <td>2020</td>\n",
       "      <td>2</td>\n",
       "      <td>682317</td>\n",
       "      <td>11493</td>\n",
       "    </tr>\n",
       "    <tr>\n",
       "      <th>2</th>\n",
       "      <td>2020</td>\n",
       "      <td>3</td>\n",
       "      <td>757740</td>\n",
       "      <td>16227</td>\n",
       "    </tr>\n",
       "    <tr>\n",
       "      <th>3</th>\n",
       "      <td>2020</td>\n",
       "      <td>4</td>\n",
       "      <td>591159</td>\n",
       "      <td>13419</td>\n",
       "    </tr>\n",
       "    <tr>\n",
       "      <th>4</th>\n",
       "      <td>2020</td>\n",
       "      <td>5</td>\n",
       "      <td>706052</td>\n",
       "      <td>14804</td>\n",
       "    </tr>\n",
       "    <tr>\n",
       "      <th>5</th>\n",
       "      <td>2020</td>\n",
       "      <td>6</td>\n",
       "      <td>810487</td>\n",
       "      <td>15730</td>\n",
       "    </tr>\n",
       "    <tr>\n",
       "      <th>6</th>\n",
       "      <td>2020</td>\n",
       "      <td>7</td>\n",
       "      <td>857366</td>\n",
       "      <td>17894</td>\n",
       "    </tr>\n",
       "    <tr>\n",
       "      <th>7</th>\n",
       "      <td>2020</td>\n",
       "      <td>8</td>\n",
       "      <td>901387</td>\n",
       "      <td>18439</td>\n",
       "    </tr>\n",
       "    <tr>\n",
       "      <th>8</th>\n",
       "      <td>2020</td>\n",
       "      <td>9</td>\n",
       "      <td>718612</td>\n",
       "      <td>14847</td>\n",
       "    </tr>\n",
       "    <tr>\n",
       "      <th>9</th>\n",
       "      <td>2020</td>\n",
       "      <td>10</td>\n",
       "      <td>742225</td>\n",
       "      <td>15179</td>\n",
       "    </tr>\n",
       "    <tr>\n",
       "      <th>10</th>\n",
       "      <td>2020</td>\n",
       "      <td>11</td>\n",
       "      <td>729312</td>\n",
       "      <td>14568</td>\n",
       "    </tr>\n",
       "    <tr>\n",
       "      <th>11</th>\n",
       "      <td>2020</td>\n",
       "      <td>12</td>\n",
       "      <td>856438</td>\n",
       "      <td>17099</td>\n",
       "    </tr>\n",
       "    <tr>\n",
       "      <th>12</th>\n",
       "      <td>2021</td>\n",
       "      <td>1</td>\n",
       "      <td>607298</td>\n",
       "      <td>12673</td>\n",
       "    </tr>\n",
       "    <tr>\n",
       "      <th>13</th>\n",
       "      <td>2021</td>\n",
       "      <td>2</td>\n",
       "      <td>654606</td>\n",
       "      <td>13839</td>\n",
       "    </tr>\n",
       "    <tr>\n",
       "      <th>14</th>\n",
       "      <td>2021</td>\n",
       "      <td>3</td>\n",
       "      <td>689674</td>\n",
       "      <td>14664</td>\n",
       "    </tr>\n",
       "    <tr>\n",
       "      <th>15</th>\n",
       "      <td>2021</td>\n",
       "      <td>4</td>\n",
       "      <td>933000</td>\n",
       "      <td>19638</td>\n",
       "    </tr>\n",
       "    <tr>\n",
       "      <th>16</th>\n",
       "      <td>2021</td>\n",
       "      <td>5</td>\n",
       "      <td>745665</td>\n",
       "      <td>15037</td>\n",
       "    </tr>\n",
       "    <tr>\n",
       "      <th>17</th>\n",
       "      <td>2021</td>\n",
       "      <td>6</td>\n",
       "      <td>793088</td>\n",
       "      <td>16142</td>\n",
       "    </tr>\n",
       "    <tr>\n",
       "      <th>18</th>\n",
       "      <td>2021</td>\n",
       "      <td>7</td>\n",
       "      <td>841266</td>\n",
       "      <td>17796</td>\n",
       "    </tr>\n",
       "    <tr>\n",
       "      <th>19</th>\n",
       "      <td>2021</td>\n",
       "      <td>8</td>\n",
       "      <td>931092</td>\n",
       "      <td>20059</td>\n",
       "    </tr>\n",
       "    <tr>\n",
       "      <th>20</th>\n",
       "      <td>2021</td>\n",
       "      <td>9</td>\n",
       "      <td>724142</td>\n",
       "      <td>14820</td>\n",
       "    </tr>\n",
       "    <tr>\n",
       "      <th>21</th>\n",
       "      <td>2021</td>\n",
       "      <td>10</td>\n",
       "      <td>800974</td>\n",
       "      <td>16455</td>\n",
       "    </tr>\n",
       "    <tr>\n",
       "      <th>22</th>\n",
       "      <td>2021</td>\n",
       "      <td>11</td>\n",
       "      <td>850668</td>\n",
       "      <td>17760</td>\n",
       "    </tr>\n",
       "    <tr>\n",
       "      <th>23</th>\n",
       "      <td>2021</td>\n",
       "      <td>12</td>\n",
       "      <td>858505</td>\n",
       "      <td>15036</td>\n",
       "    </tr>\n",
       "    <tr>\n",
       "      <th>24</th>\n",
       "      <td>2022</td>\n",
       "      <td>1</td>\n",
       "      <td>676619</td>\n",
       "      <td>14307</td>\n",
       "    </tr>\n",
       "    <tr>\n",
       "      <th>25</th>\n",
       "      <td>2022</td>\n",
       "      <td>2</td>\n",
       "      <td>689732</td>\n",
       "      <td>13928</td>\n",
       "    </tr>\n",
       "    <tr>\n",
       "      <th>26</th>\n",
       "      <td>2022</td>\n",
       "      <td>3</td>\n",
       "      <td>827747</td>\n",
       "      <td>16679</td>\n",
       "    </tr>\n",
       "    <tr>\n",
       "      <th>27</th>\n",
       "      <td>2022</td>\n",
       "      <td>4</td>\n",
       "      <td>857658</td>\n",
       "      <td>18639</td>\n",
       "    </tr>\n",
       "    <tr>\n",
       "      <th>28</th>\n",
       "      <td>2022</td>\n",
       "      <td>5</td>\n",
       "      <td>849932</td>\n",
       "      <td>17562</td>\n",
       "    </tr>\n",
       "    <tr>\n",
       "      <th>29</th>\n",
       "      <td>2022</td>\n",
       "      <td>6</td>\n",
       "      <td>872482</td>\n",
       "      <td>17988</td>\n",
       "    </tr>\n",
       "    <tr>\n",
       "      <th>30</th>\n",
       "      <td>2022</td>\n",
       "      <td>7</td>\n",
       "      <td>761386</td>\n",
       "      <td>15154</td>\n",
       "    </tr>\n",
       "    <tr>\n",
       "      <th>31</th>\n",
       "      <td>2022</td>\n",
       "      <td>8</td>\n",
       "      <td>909072</td>\n",
       "      <td>18572</td>\n",
       "    </tr>\n",
       "    <tr>\n",
       "      <th>32</th>\n",
       "      <td>2022</td>\n",
       "      <td>9</td>\n",
       "      <td>828202</td>\n",
       "      <td>16306</td>\n",
       "    </tr>\n",
       "    <tr>\n",
       "      <th>33</th>\n",
       "      <td>2022</td>\n",
       "      <td>10</td>\n",
       "      <td>799696</td>\n",
       "      <td>16381</td>\n",
       "    </tr>\n",
       "    <tr>\n",
       "      <th>34</th>\n",
       "      <td>2022</td>\n",
       "      <td>11</td>\n",
       "      <td>740089</td>\n",
       "      <td>15223</td>\n",
       "    </tr>\n",
       "    <tr>\n",
       "      <th>35</th>\n",
       "      <td>2022</td>\n",
       "      <td>12</td>\n",
       "      <td>682166</td>\n",
       "      <td>12880</td>\n",
       "    </tr>\n",
       "    <tr>\n",
       "      <th>36</th>\n",
       "      <td>2042</td>\n",
       "      <td>12</td>\n",
       "      <td>152679</td>\n",
       "      <td>3414</td>\n",
       "    </tr>\n",
       "  </tbody>\n",
       "</table>\n",
       "</div>"
      ],
      "text/plain": [
       "    Year  Month  Sales value  Sales volume\n",
       "0   2020      1       647898         13083\n",
       "1   2020      2       682317         11493\n",
       "2   2020      3       757740         16227\n",
       "3   2020      4       591159         13419\n",
       "4   2020      5       706052         14804\n",
       "5   2020      6       810487         15730\n",
       "6   2020      7       857366         17894\n",
       "7   2020      8       901387         18439\n",
       "8   2020      9       718612         14847\n",
       "9   2020     10       742225         15179\n",
       "10  2020     11       729312         14568\n",
       "11  2020     12       856438         17099\n",
       "12  2021      1       607298         12673\n",
       "13  2021      2       654606         13839\n",
       "14  2021      3       689674         14664\n",
       "15  2021      4       933000         19638\n",
       "16  2021      5       745665         15037\n",
       "17  2021      6       793088         16142\n",
       "18  2021      7       841266         17796\n",
       "19  2021      8       931092         20059\n",
       "20  2021      9       724142         14820\n",
       "21  2021     10       800974         16455\n",
       "22  2021     11       850668         17760\n",
       "23  2021     12       858505         15036\n",
       "24  2022      1       676619         14307\n",
       "25  2022      2       689732         13928\n",
       "26  2022      3       827747         16679\n",
       "27  2022      4       857658         18639\n",
       "28  2022      5       849932         17562\n",
       "29  2022      6       872482         17988\n",
       "30  2022      7       761386         15154\n",
       "31  2022      8       909072         18572\n",
       "32  2022      9       828202         16306\n",
       "33  2022     10       799696         16381\n",
       "34  2022     11       740089         15223\n",
       "35  2022     12       682166         12880\n",
       "36  2042     12       152679          3414"
      ]
     },
     "execution_count": 17,
     "metadata": {},
     "output_type": "execute_result"
    }
   ],
   "source": [
    "# Table-A: Data and trends in sales volume and value by month and year\n",
    "\n",
    "grouped_df = df_no_outliers_zscore.groupby(['Year', 'Month'])[['Sales value', 'Sales volume']].sum().reset_index()\n",
    "print(\"Table-A: Data and trends in sales volume and value by month and year\")\n",
    "grouped_df"
   ]
  },
  {
   "cell_type": "code",
   "execution_count": 18,
   "id": "184a5a52-1df2-4923-beaa-aa2871202b2e",
   "metadata": {},
   "outputs": [
    {
     "name": "stdout",
     "output_type": "stream",
     "text": [
      " Table-B: Benchmark comparisons of sport products categories performance covering sales volume and value by Year and month\n"
     ]
    },
    {
     "data": {
      "text/html": [
       "<div>\n",
       "<style scoped>\n",
       "    .dataframe tbody tr th:only-of-type {\n",
       "        vertical-align: middle;\n",
       "    }\n",
       "\n",
       "    .dataframe tbody tr th {\n",
       "        vertical-align: top;\n",
       "    }\n",
       "\n",
       "    .dataframe thead th {\n",
       "        text-align: right;\n",
       "    }\n",
       "</style>\n",
       "<table border=\"1\" class=\"dataframe\">\n",
       "  <thead>\n",
       "    <tr style=\"text-align: right;\">\n",
       "      <th></th>\n",
       "      <th>Sport product category</th>\n",
       "      <th>Sales value</th>\n",
       "      <th>Sales volume</th>\n",
       "    </tr>\n",
       "  </thead>\n",
       "  <tbody>\n",
       "    <tr>\n",
       "      <th>0</th>\n",
       "      <td>Outerwear</td>\n",
       "      <td>8528406</td>\n",
       "      <td>167455</td>\n",
       "    </tr>\n",
       "    <tr>\n",
       "      <th>1</th>\n",
       "      <td>foottw$!&amp;ear</td>\n",
       "      <td>198923</td>\n",
       "      <td>2523</td>\n",
       "    </tr>\n",
       "    <tr>\n",
       "      <th>2</th>\n",
       "      <td>footwear</td>\n",
       "      <td>8451359</td>\n",
       "      <td>105553</td>\n",
       "    </tr>\n",
       "    <tr>\n",
       "      <th>3</th>\n",
       "      <td>shirts</td>\n",
       "      <td>4126101</td>\n",
       "      <td>113684</td>\n",
       "    </tr>\n",
       "    <tr>\n",
       "      <th>4</th>\n",
       "      <td>shorts</td>\n",
       "      <td>2034070</td>\n",
       "      <td>55001</td>\n",
       "    </tr>\n",
       "    <tr>\n",
       "      <th>5</th>\n",
       "      <td>t-shirts</td>\n",
       "      <td>2777044</td>\n",
       "      <td>88582</td>\n",
       "    </tr>\n",
       "    <tr>\n",
       "      <th>6</th>\n",
       "      <td>trousers</td>\n",
       "      <td>1872652</td>\n",
       "      <td>38972</td>\n",
       "    </tr>\n",
       "    <tr>\n",
       "      <th>7</th>\n",
       "      <td>trousers$£%&amp;</td>\n",
       "      <td>89876</td>\n",
       "      <td>1964</td>\n",
       "    </tr>\n",
       "  </tbody>\n",
       "</table>\n",
       "</div>"
      ],
      "text/plain": [
       "  Sport product category  Sales value  Sales volume\n",
       "0              Outerwear      8528406        167455\n",
       "1         foottw$!&ear         198923          2523\n",
       "2             footwear        8451359        105553\n",
       "3                 shirts      4126101        113684\n",
       "4                 shorts      2034070         55001\n",
       "5               t-shirts      2777044         88582\n",
       "6               trousers      1872652         38972\n",
       "7           trousers$£%&        89876          1964"
      ]
     },
     "execution_count": 18,
     "metadata": {},
     "output_type": "execute_result"
    }
   ],
   "source": [
    "# Table-B: Benchmark comparisons of sport products categories performance covering sales volume and value by Year and month\n",
    "\n",
    "\n",
    "grouped_df_category = df_no_outliers_zscore.groupby(['Sport product category'])[['Sales value', 'Sales volume']].sum().reset_index()\n",
    "print(\" Table-B: Benchmark comparisons of sport products categories performance covering sales volume and value by Year and month\")\n",
    "grouped_df_category"
   ]
  },
  {
   "cell_type": "code",
   "execution_count": 19,
   "id": "2b4e31f2-aeee-4a26-a6f7-6779654c65f7",
   "metadata": {},
   "outputs": [
    {
     "name": "stdout",
     "output_type": "stream",
     "text": [
      "Table-C:  Benchmark comparisons of sales volume and value between subsidiaries by Year and month\n"
     ]
    },
    {
     "data": {
      "text/html": [
       "<div>\n",
       "<style scoped>\n",
       "    .dataframe tbody tr th:only-of-type {\n",
       "        vertical-align: middle;\n",
       "    }\n",
       "\n",
       "    .dataframe tbody tr th {\n",
       "        vertical-align: top;\n",
       "    }\n",
       "\n",
       "    .dataframe thead th {\n",
       "        text-align: right;\n",
       "    }\n",
       "</style>\n",
       "<table border=\"1\" class=\"dataframe\">\n",
       "  <thead>\n",
       "    <tr style=\"text-align: right;\">\n",
       "      <th></th>\n",
       "      <th>Subsidiary/Country</th>\n",
       "      <th>Sales value</th>\n",
       "      <th>Sales volume</th>\n",
       "    </tr>\n",
       "  </thead>\n",
       "  <tbody>\n",
       "    <tr>\n",
       "      <th>0</th>\n",
       "      <td>Fran</td>\n",
       "      <td>219543</td>\n",
       "      <td>3708</td>\n",
       "    </tr>\n",
       "    <tr>\n",
       "      <th>1</th>\n",
       "      <td>France</td>\n",
       "      <td>6470908</td>\n",
       "      <td>132560</td>\n",
       "    </tr>\n",
       "    <tr>\n",
       "      <th>2</th>\n",
       "      <td>Germany</td>\n",
       "      <td>11896279</td>\n",
       "      <td>246548</td>\n",
       "    </tr>\n",
       "    <tr>\n",
       "      <th>3</th>\n",
       "      <td>UK</td>\n",
       "      <td>9491701</td>\n",
       "      <td>190918</td>\n",
       "    </tr>\n",
       "  </tbody>\n",
       "</table>\n",
       "</div>"
      ],
      "text/plain": [
       "  Subsidiary/Country  Sales value  Sales volume\n",
       "0               Fran       219543          3708\n",
       "1             France      6470908        132560\n",
       "2            Germany     11896279        246548\n",
       "3                 UK      9491701        190918"
      ]
     },
     "execution_count": 19,
     "metadata": {},
     "output_type": "execute_result"
    }
   ],
   "source": [
    "# Table-C:  Benchmark comparisons of sales volume and value between subsidiaries by Year and month\n",
    "\n",
    "\n",
    "grouped_df_subsidiaries = df_no_outliers_zscore.groupby(['Subsidiary/Country'])[['Sales value', 'Sales volume']].sum().reset_index()\n",
    "print(\"Table-C:  Benchmark comparisons of sales volume and value between subsidiaries by Year and month\")\n",
    "grouped_df_subsidiaries"
   ]
  },
  {
   "cell_type": "code",
   "execution_count": 20,
   "id": "7ffeca6b-158d-42ab-9435-0901f6822b96",
   "metadata": {
    "scrolled": true
   },
   "outputs": [
    {
     "data": {
      "text/plain": [
       "<Axes: xlabel='Subsidiary/Country', ylabel='Sales value'>"
      ]
     },
     "execution_count": 20,
     "metadata": {},
     "output_type": "execute_result"
    },
    {
     "data": {
      "image/png": "[encoded data removed]",
      "text/plain": [
       "<Figure size 640x480 with 1 Axes>"
      ]
     },
     "metadata": {},
     "output_type": "display_data"
    }
   ],
   "source": [
    "#EDA part\n",
    "sns.barplot(data=df,x=\"Subsidiary/Country\",y = 'Sales value')"
   ]
  },
  {
   "cell_type": "code",
   "execution_count": 21,
   "id": "9c75b4fa-e271-4697-9c02-7f1571c10fa0",
   "metadata": {
    "scrolled": true
   },
   "outputs": [
    {
     "name": "stdout",
     "output_type": "stream",
     "text": [
      "Subsidiary/Country         object\n",
      "Year                        int64\n",
      "Month                       int64\n",
      "Sport product category     object\n",
      "Sales value                 int64\n",
      "Sales volume                int64\n",
      "Sales value zscore        float64\n",
      "IQR Outlier                  bool\n",
      "Z-Score Outlier              bool\n",
      "dtype: object\n"
     ]
    }
   ],
   "source": [
    "print(df.dtypes)"
   ]
  },
  {
   "cell_type": "code",
   "execution_count": 22,
   "id": "7ecfe7e9-cafa-4d5b-b8d0-18d486e92859",
   "metadata": {},
   "outputs": [],
   "source": [
    "df['Subsidiary/Country'] = df['Subsidiary/Country'].astype(str)\n",
    "df['Year'] = df['Year'].astype(str)"
   ]
  },
  {
   "cell_type": "code",
   "execution_count": 23,
   "id": "6632171f-07cc-4a3f-8697-bf1b7f0a3831",
   "metadata": {},
   "outputs": [
    {
     "data": {
      "text/plain": [
       "<Axes: xlabel='Subsidiary/Country', ylabel='Sales value'>"
      ]
     },
     "execution_count": 23,
     "metadata": {},
     "output_type": "execute_result"
    },
    {
     "data": {
      "image/png": "[encoded data removed]",
      "text/plain": [
       "<Figure size 640x480 with 1 Axes>"
      ]
     },
     "metadata": {},
     "output_type": "display_data"
    }
   ],
   "source": [
    "sns.barplot(data=df,x=\"Subsidiary/Country\",y = 'Sales value',hue='Year')"
   ]
  },
  {
   "cell_type": "code",
   "execution_count": 24,
   "id": "b8aa1123-8040-45e3-bd6d-0377665aca6d",
   "metadata": {},
   "outputs": [
    {
     "data": {
      "text/plain": [
       "Year\n",
       "2020    72\n",
       "2021    69\n",
       "2022    64\n",
       "2042     6\n",
       "Name: count, dtype: int64"
      ]
     },
     "execution_count": 24,
     "metadata": {},
     "output_type": "execute_result"
    }
   ],
   "source": [
    "filteredf = df[df['Subsidiary/Country'] == 'France']\n",
    "filteredf['Year'].value_counts()"
   ]
  },
  {
   "cell_type": "code",
   "execution_count": 25,
   "id": "e92cb512-d34b-4fd3-b2d1-c6feb925f8f4",
   "metadata": {},
   "outputs": [
    {
     "data": {
      "text/plain": [
       "Year\n",
       "2020    72\n",
       "2021    72\n",
       "2022    72\n",
       "Name: count, dtype: int64"
      ]
     },
     "execution_count": 25,
     "metadata": {},
     "output_type": "execute_result"
    }
   ],
   "source": [
    "filtered_g = df[df['Subsidiary/Country'] == 'Germany']\n",
    "filtered_g['Year'].value_counts()"
   ]
  },
  {
   "cell_type": "code",
   "execution_count": 26,
   "id": "52cab422-ffc5-4e71-bc88-911466df541d",
   "metadata": {},
   "outputs": [
    {
     "data": {
      "text/plain": [
       "(216, 9)"
      ]
     },
     "execution_count": 26,
     "metadata": {},
     "output_type": "execute_result"
    }
   ],
   "source": [
    "filtered_g.shape"
   ]
  },
  {
   "cell_type": "code",
   "execution_count": 27,
   "id": "5d08c6a9-6b24-491b-a563-0e1e9122eb36",
   "metadata": {},
   "outputs": [
    {
     "data": {
      "text/plain": [
       "<Axes: xlabel='Sport product category', ylabel='count'>"
      ]
     },
     "execution_count": 27,
     "metadata": {},
     "output_type": "execute_result"
    },
    {
     "data": {
      "image/png": "[encoded data removed]",
      "text/plain": [
       "<Figure size 1000x500 with 1 Axes>"
      ]
     },
     "metadata": {},
     "output_type": "display_data"
    }
   ],
   "source": [
    "plt.figure(figsize=(10,5))\n",
    "sns.countplot(data=df,x='Sport product category')"
   ]
  },
  {
   "cell_type": "code",
   "execution_count": 28,
   "id": "c5feccd0-5733-40eb-a7f7-fb3c0a480559",
   "metadata": {},
   "outputs": [
    {
     "data": {
      "text/html": [
       "<div>\n",
       "<style scoped>\n",
       "    .dataframe tbody tr th:only-of-type {\n",
       "        vertical-align: middle;\n",
       "    }\n",
       "\n",
       "    .dataframe tbody tr th {\n",
       "        vertical-align: top;\n",
       "    }\n",
       "\n",
       "    .dataframe thead th {\n",
       "        text-align: right;\n",
       "    }\n",
       "</style>\n",
       "<table border=\"1\" class=\"dataframe\">\n",
       "  <thead>\n",
       "    <tr style=\"text-align: right;\">\n",
       "      <th></th>\n",
       "      <th>Subsidiary/Country</th>\n",
       "      <th>Year</th>\n",
       "      <th>Month</th>\n",
       "      <th>Sport product category</th>\n",
       "      <th>Sales value</th>\n",
       "      <th>Sales volume</th>\n",
       "      <th>Sales value zscore</th>\n",
       "      <th>IQR Outlier</th>\n",
       "      <th>Z-Score Outlier</th>\n",
       "    </tr>\n",
       "  </thead>\n",
       "  <tbody>\n",
       "    <tr>\n",
       "      <th>0</th>\n",
       "      <td>France</td>\n",
       "      <td>2020</td>\n",
       "      <td>1</td>\n",
       "      <td>Outerwear</td>\n",
       "      <td>38760</td>\n",
       "      <td>760</td>\n",
       "      <td>-0.198160</td>\n",
       "      <td>False</td>\n",
       "      <td>False</td>\n",
       "    </tr>\n",
       "    <tr>\n",
       "      <th>1</th>\n",
       "      <td>France</td>\n",
       "      <td>2020</td>\n",
       "      <td>1</td>\n",
       "      <td>t-shirts</td>\n",
       "      <td>6479</td>\n",
       "      <td>209</td>\n",
       "      <td>-1.033923</td>\n",
       "      <td>False</td>\n",
       "      <td>False</td>\n",
       "    </tr>\n",
       "    <tr>\n",
       "      <th>2</th>\n",
       "      <td>France</td>\n",
       "      <td>2020</td>\n",
       "      <td>1</td>\n",
       "      <td>shirts</td>\n",
       "      <td>14070</td>\n",
       "      <td>402</td>\n",
       "      <td>-0.837391</td>\n",
       "      <td>False</td>\n",
       "      <td>False</td>\n",
       "    </tr>\n",
       "    <tr>\n",
       "      <th>3</th>\n",
       "      <td>France</td>\n",
       "      <td>2020</td>\n",
       "      <td>1</td>\n",
       "      <td>shorts</td>\n",
       "      <td>14685</td>\n",
       "      <td>445</td>\n",
       "      <td>-0.821468</td>\n",
       "      <td>False</td>\n",
       "      <td>False</td>\n",
       "    </tr>\n",
       "    <tr>\n",
       "      <th>4</th>\n",
       "      <td>France</td>\n",
       "      <td>2020</td>\n",
       "      <td>1</td>\n",
       "      <td>trousers</td>\n",
       "      <td>22468</td>\n",
       "      <td>548</td>\n",
       "      <td>-0.619964</td>\n",
       "      <td>False</td>\n",
       "      <td>False</td>\n",
       "    </tr>\n",
       "  </tbody>\n",
       "</table>\n",
       "</div>"
      ],
      "text/plain": [
       "  Subsidiary/Country  Year  Month Sport product category  Sales value  \\\n",
       "0             France  2020      1              Outerwear        38760   \n",
       "1             France  2020      1               t-shirts         6479   \n",
       "2             France  2020      1                 shirts        14070   \n",
       "3             France  2020      1                 shorts        14685   \n",
       "4             France  2020      1               trousers        22468   \n",
       "\n",
       "   Sales volume  Sales value zscore  IQR Outlier  Z-Score Outlier  \n",
       "0           760           -0.198160        False            False  \n",
       "1           209           -1.033923        False            False  \n",
       "2           402           -0.837391        False            False  \n",
       "3           445           -0.821468        False            False  \n",
       "4           548           -0.619964        False            False  "
      ]
     },
     "execution_count": 28,
     "metadata": {},
     "output_type": "execute_result"
    }
   ],
   "source": [
    "df.head()"
   ]
  },
  {
   "cell_type": "code",
   "execution_count": 29,
   "id": "9050f9ff-90ed-4af4-b780-fb8e0b19c62c",
   "metadata": {},
   "outputs": [
    {
     "data": {
      "text/plain": [
       "Subsidiary/Country\n",
       "UK         216\n",
       "Germany    216\n",
       "France     211\n",
       "Fran         5\n",
       "Name: count, dtype: int64"
      ]
     },
     "execution_count": 29,
     "metadata": {},
     "output_type": "execute_result"
    }
   ],
   "source": [
    "df['Subsidiary/Country'].value_counts()"
   ]
  },
  {
   "cell_type": "code",
   "execution_count": 30,
   "id": "703939e0-bca4-4e28-b225-efa1d514d9cb",
   "metadata": {},
   "outputs": [
    {
     "data": {
      "text/plain": [
       "Text(0.5, 1.0, 'Sales volume and sales value by Country')"
      ]
     },
     "execution_count": 30,
     "metadata": {},
     "output_type": "execute_result"
    },
    {
     "data": {
      "image/png": "[encoded data removed]",
      "text/plain": [
       "<Figure size 640x480 with 1 Axes>"
      ]
     },
     "metadata": {},
     "output_type": "display_data"
    }
   ],
   "source": [
    "# Question 1: Perform a sales value and volume analysis of the three countries to identify\n",
    "# the best country to open the first branded shop\n",
    "sns.scatterplot(data=df,x='Sales volume',y='Sales value',hue='Subsidiary/Country',palette='bright')\n",
    "plt.title(\"Sales volume and sales value by Country\")"
   ]
  },
  {
   "cell_type": "code",
   "execution_count": 31,
   "id": "85dc6c9e-1c72-40b5-97bf-ce9f8d4175e6",
   "metadata": {},
   "outputs": [
    {
     "data": {
      "text/plain": [
       "<Axes: xlabel='Sport product category', ylabel='count'>"
      ]
     },
     "execution_count": 31,
     "metadata": {},
     "output_type": "execute_result"
    },
    {
     "data": {
      "image/png": "[encoded data removed]",
      "text/plain": [
       "<Figure size 1000x500 with 1 Axes>"
      ]
     },
     "metadata": {},
     "output_type": "display_data"
    }
   ],
   "source": [
    "plt.figure(figsize=(10,5))\n",
    "sns.countplot(data=df,x='Sport product category',hue='Subsidiary/Country')"
   ]
  },
  {
   "cell_type": "code",
   "execution_count": 32,
   "id": "acd43f72-2066-422a-8b8d-1c5d803b9d92",
   "metadata": {},
   "outputs": [
    {
     "name": "stderr",
     "output_type": "stream",
     "text": [
      "C:\\Users\\asus\\anaconda3\\Lib\\site-packages\\seaborn\\_oldcore.py:1119: FutureWarning: use_inf_as_na option is deprecated and will be removed in a future version. Convert inf values to NaN before operating instead.\n",
      "  with pd.option_context('mode.use_inf_as_na', True):\n",
      "C:\\Users\\asus\\anaconda3\\Lib\\site-packages\\seaborn\\_oldcore.py:1119: FutureWarning: use_inf_as_na option is deprecated and will be removed in a future version. Convert inf values to NaN before operating instead.\n",
      "  with pd.option_context('mode.use_inf_as_na', True):\n"
     ]
    },
    {
     "data": {
      "image/png": "[encoded data removed]",
      "text/plain": [
       "<Figure size 600x500 with 1 Axes>"
      ]
     },
     "metadata": {},
     "output_type": "display_data"
    }
   ],
   "source": [
    "germany = 'Germany'\n",
    "\n",
    "df_germany = df[df['Subsidiary/Country'] == germany]\n",
    "df_others = df[df['Subsidiary/Country'] != germany]\n",
    "\n",
    "# Sum the sales values for other countries by year\n",
    "df_others_sum = df_others.groupby('Year')['Sales value'].sum().reset_index()\n",
    "df_others_sum['Subsidiary/Country'] = 'Others'\n",
    "\n",
    "# Merge Germany and others data into one DataFrame\n",
    "df_combined = pd.concat([\n",
    "    df_germany[['Year', 'Sales value']].assign(Subsidiary_Country=germany),\n",
    "    df_others_sum.rename(columns={'Sales value': 'Sales value'}).assign(Subsidiary_Country='Others')\n",
    "])\n",
    "\n",
    "# Plotting\n",
    "plt.figure(figsize=(6, 5))\n",
    "sns.lineplot(data=df_combined, x='Year', y='Sales value', hue='Subsidiary_Country', marker='o')\n",
    "plt.title('Sales Value Comparison: Germany vs Other Countries')\n",
    "plt.xlabel('Year')\n",
    "plt.ylabel('Sales Value')\n",
    "plt.legend(title='Country')\n",
    "plt.xticks(rotation=45)  # Rotate x-axis labels for better readability\n",
    "plt.tight_layout()\n",
    "plt.show()\n",
    "\n"
   ]
  },
  {
   "cell_type": "code",
   "execution_count": 33,
   "id": "af7bebb4-6e93-4890-aa09-c69a937a137c",
   "metadata": {},
   "outputs": [
    {
     "name": "stdout",
     "output_type": "stream",
     "text": [
      "Sum of Sales value: 30076180\n",
      "Sum of Sales volume: 601574\n",
      "Avrage of Sales value: 46413.858024691355\n",
      "Avrage of Sales volume: 928.354938271605\n",
      "Standard of Sales value: 38654.4155145058\n",
      "Standard of Sales volume: 607.3417773922631\n"
     ]
    }
   ],
   "source": [
    "# Summry exploretry data calculation, total seles value, total sales values\n",
    "\n",
    "print(\"Sum of Sales value:\",(df['Sales value'].sum()))\n",
    "print(\"Sum of Sales volume:\",(df['Sales volume'].sum()))\n",
    "print(\"Avrage of Sales value:\",(df['Sales value'].mean()))\n",
    "print(\"Avrage of Sales volume:\",(df['Sales volume'].mean()))\n",
    "print(\"Standard of Sales value:\",(df['Sales value'].std()))\n",
    "print(\"Standard of Sales volume:\",(df['Sales volume'].std()))"
   ]
  },
  {
   "cell_type": "code",
   "execution_count": null,
   "id": "5660e1df-814f-47c1-8dd6-5aecff114721",
   "metadata": {},
   "outputs": [],
   "source": []
  },
  {
   "cell_type": "code",
   "execution_count": null,
   "id": "257c8c79-da99-407f-8a3a-f4d04699728a",
   "metadata": {},
   "outputs": [],
   "source": []
  }
 ],
 "metadata": {
  "kernelspec": {
   "display_name": "Python 3 (ipykernel)",
   "language": "python",
   "name": "python3"
  },
  "language_info": {
   "codemirror_mode": {
    "name": "ipython",
    "version": 3
   },
   "file_extension": ".py",
   "mimetype": "text/x-python",
   "name": "python",
   "nbconvert_exporter": "python",
   "pygments_lexer": "ipython3",
   "version": "3.11.7"
  }
 },
 "nbformat": 4,
 "nbformat_minor": 5
}
